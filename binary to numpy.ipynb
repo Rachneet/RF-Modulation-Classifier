{
 "cells": [
  {
   "cell_type": "markdown",
   "metadata": {},
   "source": [
    "# Binary to numpy\n",
    "## Imports"
   ]
  },
  {
   "cell_type": "code",
   "execution_count": 5,
   "metadata": {
    "init_cell": true
   },
   "outputs": [
    {
     "name": "stdout",
     "output_type": "stream",
     "text": [
      "The autoreload extension is already loaded. To reload it, use:\n",
      "  %reload_ext autoreload\n"
     ]
    }
   ],
   "source": [
    "%load_ext autoreload\n",
    "%autoreload 2\n",
    "%matplotlib inline\n",
    "\n",
    "# Imports\n",
    "import traceback\n",
    "import numpy as np\n",
    "import warnings\n",
    "import matplotlib.pyplot as plt    \n",
    "import ipywidgets as widgets\n",
    "import matplotlib.image as mpimg\n",
    "import numpy.fft as fft\n",
    "import threading\n",
    "import time\n",
    "import types\n",
    "import scipy.signal\n",
    "import signal\n",
    "import sh\n",
    "import sys\n",
    "import os\n",
    "import re\n",
    "import struct\n",
    "import visa\n",
    "import logging\n",
    "import copy\n",
    "import glob\n",
    "\n",
    "sys.path.append('/home/colindv/sciebo/masterthesis/remote control/Remote control v3 (version control)/')\n",
    "home = os.environ['HOME']+'/' # home dir\n",
    "\n",
    "from colors import color_array\n",
    "from helper_functions import read_binary\n",
    "from helper_functions import info, debug, warning, error, critical\n",
    "from ContextManager import ContextManager\n",
    "from Receiver import Receiver\n",
    "\n",
    "qnap = \"/storage/qnap/\"\n",
    "folder = \"interference_free/ota/no_cfo/\"\n",
    "bin_folder = \"bin/\"\n",
    "\n",
    "mod_schemes = [\"SC_BPSK\", \"SC_QPSK\", \"SC_16QAM\", \"SC_64QAM\",\n",
    "               \"OFDM_BPSK\", \"OFDM_QPSK\", \"OFDM_16QAM\", \"OFDM_64QAM\"]\n",
    "\n",
    "dummyReceiver = Receiver(**{'bin_dir': '/home/colindv/bin_data/', \n",
    "                            'freq': 5750000000.0, \n",
    "                            'srate': 50000000.0, \n",
    "                            'rx_dir': '/home/colindv/bin_data/', \n",
    "                            'bw_noise': 5000000.0, \n",
    "                            'bw': 100000.0, \n",
    "                            'vbw': 10000.0, \n",
    "                            'init_gain': 0, \n",
    "                            'freq_noise': np.array([5.73e9, 5.77e9]),\n",
    "                            'span': 50000000.0, \n",
    "                            'max_gain': 0, \n",
    "                            'freq_noise_offset': 20000000.0, \n",
    "                            'bw_signal': 20000000.0})\n",
    "\n",
    "dummyReceiver.name = \"dummy\""
   ]
  },
  {
   "cell_type": "markdown",
   "metadata": {},
   "source": [
    "## process binary files to numpy matrix"
   ]
  },
  {
   "cell_type": "code",
   "execution_count": null,
   "metadata": {
    "scrolled": true
   },
   "outputs": [
    {
     "name": "stdout",
     "output_type": "stream",
     "text": [
      "29.03. 18:44:44 \u001b[44m INFO \u001b[0m\t\u001b[38;5;0m\u001b[1m[sys]\u001b[0m\t\u001b[1mStarted Context Manager\u001b[0m\n",
      "29.03. 18:44:47 \u001b[44m INFO \u001b[0m\t\u001b[38;5;0m\u001b[1m[sys]\u001b[0m\t\u001b[1mFound 16000 files in 5 directories\u001b[0m\n",
      "29.03. 18:44:47 \u001b[44m INFO \u001b[0m\t\u001b[38;5;1m\u001b[1m[OS]\u001b[0m\tDiving into subfolder /storage/qnap/interference_free/ota/no_cfo/10dB/bin/\n",
      "29.03. 18:44:47 \u001b[44m INFO \u001b[0m\t\u001b[38;5;1m\u001b[1m[OS]\u001b[0m\tAnalyzing samples from SC_BPSK modulation\n",
      "29.03. 18:44:47 \u001b[44m INFO \u001b[0m\t\u001b[38;5;1m\u001b[1m[OS]\u001b[0m\t3200 samples with 50000 IQ samples each\n",
      "29.03. 18:47:09 \u001b[44m INFO \u001b[0m\t\u001b[38;5;1m\u001b[1m[OS]\u001b[0m\tsaved .npz data in /storage/qnap/interference_free/ota/no_cfo/10dB/npz/SC_BPSK_filtered.npz\n",
      "29.03. 18:47:09 \u001b[44m INFO \u001b[0m\t\u001b[38;5;1m\u001b[1m[OS]\u001b[0m\tAnalyzing samples from SC_QPSK modulation\n",
      "29.03. 18:47:09 \u001b[44m INFO \u001b[0m\t\u001b[38;5;1m\u001b[1m[OS]\u001b[0m\t3200 samples with 50000 IQ samples each\n",
      "29.03. 18:49:31 \u001b[44m INFO \u001b[0m\t\u001b[38;5;1m\u001b[1m[OS]\u001b[0m\tsaved .npz data in /storage/qnap/interference_free/ota/no_cfo/10dB/npz/SC_QPSK_filtered.npz\n",
      "29.03. 18:49:31 \u001b[44m INFO \u001b[0m\t\u001b[38;5;1m\u001b[1m[OS]\u001b[0m\tAnalyzing samples from SC_16QAM modulation\n",
      "29.03. 18:49:31 \u001b[44m INFO \u001b[0m\t\u001b[38;5;1m\u001b[1m[OS]\u001b[0m\t3200 samples with 50000 IQ samples each\n",
      "29.03. 18:51:52 \u001b[44m INFO \u001b[0m\t\u001b[38;5;1m\u001b[1m[OS]\u001b[0m\tsaved .npz data in /storage/qnap/interference_free/ota/no_cfo/10dB/npz/SC_16QAM_filtered.npz\n",
      "29.03. 18:51:52 \u001b[44m INFO \u001b[0m\t\u001b[38;5;1m\u001b[1m[OS]\u001b[0m\tAnalyzing samples from SC_64QAM modulation\n",
      "29.03. 18:51:52 \u001b[44m INFO \u001b[0m\t\u001b[38;5;1m\u001b[1m[OS]\u001b[0m\t3200 samples with 50000 IQ samples each\n",
      "29.03. 18:54:15 \u001b[44m INFO \u001b[0m\t\u001b[38;5;1m\u001b[1m[OS]\u001b[0m\tsaved .npz data in /storage/qnap/interference_free/ota/no_cfo/10dB/npz/SC_64QAM_filtered.npz\n",
      "29.03. 18:54:15 \u001b[44m INFO \u001b[0m\t\u001b[38;5;1m\u001b[1m[OS]\u001b[0m\tAnalyzing samples from OFDM_BPSK modulation\n",
      "29.03. 18:54:15 \u001b[44m INFO \u001b[0m\t\u001b[38;5;1m\u001b[1m[OS]\u001b[0m\t3200 samples with 50000 IQ samples each\n",
      "29.03. 18:56:39 \u001b[44m INFO \u001b[0m\t\u001b[38;5;1m\u001b[1m[OS]\u001b[0m\tsaved .npz data in /storage/qnap/interference_free/ota/no_cfo/10dB/npz/OFDM_BPSK_filtered.npz\n",
      "29.03. 18:56:39 \u001b[44m INFO \u001b[0m\t\u001b[38;5;1m\u001b[1m[OS]\u001b[0m\tAnalyzing samples from OFDM_QPSK modulation\n",
      "29.03. 18:56:39 \u001b[44m INFO \u001b[0m\t\u001b[38;5;1m\u001b[1m[OS]\u001b[0m\t3200 samples with 50000 IQ samples each\n",
      "29.03. 18:59:04 \u001b[44m INFO \u001b[0m\t\u001b[38;5;1m\u001b[1m[OS]\u001b[0m\tsaved .npz data in /storage/qnap/interference_free/ota/no_cfo/10dB/npz/OFDM_QPSK_filtered.npz\n",
      "29.03. 18:59:04 \u001b[44m INFO \u001b[0m\t\u001b[38;5;1m\u001b[1m[OS]\u001b[0m\tAnalyzing samples from OFDM_16QAM modulation\n",
      "29.03. 18:59:04 \u001b[44m INFO \u001b[0m\t\u001b[38;5;1m\u001b[1m[OS]\u001b[0m\t3200 samples with 50000 IQ samples each\n",
      "29.03. 19:01:33 \u001b[44m INFO \u001b[0m\t\u001b[38;5;1m\u001b[1m[OS]\u001b[0m\tsaved .npz data in /storage/qnap/interference_free/ota/no_cfo/10dB/npz/OFDM_16QAM_filtered.npz\n",
      "29.03. 19:01:33 \u001b[44m INFO \u001b[0m\t\u001b[38;5;1m\u001b[1m[OS]\u001b[0m\tAnalyzing samples from OFDM_64QAM modulation\n",
      "29.03. 19:01:33 \u001b[44m INFO \u001b[0m\t\u001b[38;5;1m\u001b[1m[OS]\u001b[0m\t3200 samples with 50000 IQ samples each\n"
     ]
    }
   ],
   "source": [
    "storage_dir = \"/storage/qnap/\"\n",
    "root_folder = \"interference_free/ota/no_cfo/\"\n",
    "output_folder = \"npz/\"\n",
    "file_register = {}\n",
    "total_files = 0\n",
    "\n",
    "with ContextManager(streamhandler_level=logging.INFO, filehandler_path=home) as contextmanager:\n",
    "    \n",
    "    for root, directories, _ in os.walk(storage_dir + root_folder):\n",
    "        for directory in directories:\n",
    "            if(directory == \"bin\"):\n",
    "                files_in_directory = glob.glob(os.path.join(root, directory)+\"/*.bin\")\n",
    "                subfolder = os.path.join(root, directory)+\"/\"\n",
    "                file_register[subfolder] = files_in_directory\n",
    "                total_files += len(files_in_directory)\n",
    "    \n",
    "    info(\"sys\", \"Found %d files in %d directories\" % (total_files, len(file_register.keys())))\n",
    "    \n",
    "    for iteration, subfolder in enumerate(file_register.keys()):\n",
    "            \n",
    "        info(\"OS\", \"Diving into subfolder %s\" % subfolder)\n",
    "        \n",
    "        # for every modulation scheme\n",
    "        for mod_scheme in mod_schemes:\n",
    "            \n",
    "            files = [file for file in file_register[subfolder] if mod_scheme in file]\n",
    "            num_files = len(files)\n",
    "            \n",
    "            if (num_files > 0):\n",
    "                info(\"OS\", \"Analyzing samples from %s modulation\" % mod_scheme)\n",
    "\n",
    "                # find dimensionality of output\n",
    "                num_samples = num_files*8 # each file = 10 sample record, discard beginning and end\n",
    "                num_iq = int(read_binary(files[0]).size / 10)\n",
    "                info(\"OS\", \"%d samples with %d IQ samples each\" % (num_samples, num_iq))\n",
    "\n",
    "                # pre-allocate memory\n",
    "                matrix = np.zeros((num_samples, num_iq), dtype=np.complex64)\n",
    "                snrs = -1 * np.ones(num_samples, dtype=float)\n",
    "                labels = -1 * np.ones(num_samples, dtype=int)\n",
    "                \n",
    "                # for every binary file\n",
    "                for i, file in enumerate(files):\n",
    "\n",
    "                    # read data, load in dummy receiver\n",
    "                    data = read_binary(file)\n",
    "                    dummyReceiver.data = data\n",
    "                    \n",
    "                    # get SNR, label, and filter data\n",
    "                    snrs[i*8:(i+1)*8] = dummyReceiver.measure_SNR()\n",
    "                    labels[i*8:(i+1)*8] = mod_schemes.index(mod_scheme)\n",
    "                    filtered_data = dummyReceiver.filter_data()\n",
    "\n",
    "                    # for every chunk in a binary file (only use chunk 2-9)\n",
    "                    # one chunk is equal to one measurement, observation or sample in the ML sense\n",
    "                    # for this configuration every observation is t=0.001s (1ms) long\n",
    "                    matrix[i*8:(i+1)*8, :] = np.stack(np.split(filtered_data, 10)[1:-1])\n",
    "                \n",
    "                # save data after all files have been read\n",
    "                output_dir = subfolder[:-len(\"bin/\")]+output_folder\n",
    "                output_file = output_dir+mod_scheme+\"_filtered.npz\"\n",
    "\n",
    "                if not os.path.exists(output_dir):\n",
    "                    os.makedirs(output_dir)\n",
    "\n",
    "                np.savez(output_file, matrix=matrix, snrs=snrs, labels=labels)\n",
    "                info(\"OS\", \"saved .npz data in %s\" % output_file)\n",
    "                \n",
    "                matrix = []\n",
    "                snrs = []\n",
    "                labels = []\n",
    "\n",
    "        contextmanager.step(iteration+1, len(file_register.keys()))                \n",
    "        "
   ]
  },
  {
   "cell_type": "markdown",
   "metadata": {},
   "source": [
    "## Explore data"
   ]
  },
  {
   "cell_type": "code",
   "execution_count": null,
   "metadata": {
    "scrolled": false
   },
   "outputs": [],
   "source": [
    "with ContextManager(streamhandler_level=logging.INFO) as contextmanager:\n",
    "    \n",
    "    # load one example file for each modulation\n",
    "    for mod_scheme in mod_schemes:\n",
    "        file_register = file_registers[3][1]\n",
    "        file = file_register[mod_scheme][0][0]\n",
    "        info(\"OS\", \"opening %s\" % file)\n",
    "        data = read_binary(file)\n",
    "        filtered_data = dummyReceiver.filter_data(data=data)\n",
    "        dummyReceiver.visualize_samples(mode='both', data=data, filtered_data=filtered_data)\n",
    "        dummyReceiver.data = data\n",
    "        dummyReceiver.name=\"dummy\"\n",
    "        SNR = dummyReceiver.measure_SNR()\n",
    "        info(\"dummy\", \"SNR: %5.3f dB\" % SNR)"
   ]
  },
  {
   "cell_type": "markdown",
   "metadata": {},
   "source": []
  },
  {
   "cell_type": "markdown",
   "metadata": {},
   "source": [
    "# generate some shorter files"
   ]
  },
  {
   "cell_type": "code",
   "execution_count": 16,
   "metadata": {},
   "outputs": [
    {
     "name": "stdout",
     "output_type": "stream",
     "text": [
      "27.03. 22:22:13 \u001b[44m INFO \u001b[0m\t\u001b[38;5;0m\u001b[1m[sys]\u001b[0m\t\u001b[1mStarted Context Manager\u001b[0m\n",
      "27.03. 22:22:36 \u001b[42m DEBG \u001b[0m\t\u001b[38;5;1m\u001b[1m[OS]\u001b[0m\topened /storage/qnap/interference_free/cable/0db/npz/OFDM_16QAM_filtered.npz\n",
      "27.03. 22:23:00 \u001b[42m DEBG \u001b[0m\t\u001b[38;5;1m\u001b[1m[OS]\u001b[0m\tsaved /storage/qnap/interference_free/cable/0db/npz/OFDM_16QAM_filtered_short.npz\n",
      "27.03. 22:23:20 \u001b[42m DEBG \u001b[0m\t\u001b[38;5;1m\u001b[1m[OS]\u001b[0m\topened /storage/qnap/interference_free/cable/0db/npz/SC_BPSK_filtered.npz\n",
      "27.03. 22:23:40 \u001b[42m DEBG \u001b[0m\t\u001b[38;5;1m\u001b[1m[OS]\u001b[0m\tsaved /storage/qnap/interference_free/cable/0db/npz/SC_BPSK_filtered_short.npz\n",
      "27.03. 22:23:55 \u001b[42m DEBG \u001b[0m\t\u001b[38;5;1m\u001b[1m[OS]\u001b[0m\topened /storage/qnap/interference_free/cable/0db/npz/SC_16QAM_filtered.npz\n",
      "27.03. 22:24:15 \u001b[42m DEBG \u001b[0m\t\u001b[38;5;1m\u001b[1m[OS]\u001b[0m\tsaved /storage/qnap/interference_free/cable/0db/npz/SC_16QAM_filtered_short.npz\n",
      "27.03. 22:24:34 \u001b[42m DEBG \u001b[0m\t\u001b[38;5;1m\u001b[1m[OS]\u001b[0m\topened /storage/qnap/interference_free/cable/0db/npz/SC_64QAM_filtered.npz\n",
      "27.03. 22:24:58 \u001b[42m DEBG \u001b[0m\t\u001b[38;5;1m\u001b[1m[OS]\u001b[0m\tsaved /storage/qnap/interference_free/cable/0db/npz/SC_64QAM_filtered_short.npz\n",
      "27.03. 22:25:14 \u001b[42m DEBG \u001b[0m\t\u001b[38;5;1m\u001b[1m[OS]\u001b[0m\topened /storage/qnap/interference_free/cable/0db/npz/OFDM_64QAM_filtered.npz\n",
      "27.03. 22:25:38 \u001b[42m DEBG \u001b[0m\t\u001b[38;5;1m\u001b[1m[OS]\u001b[0m\tsaved /storage/qnap/interference_free/cable/0db/npz/OFDM_64QAM_filtered_short.npz\n",
      "27.03. 22:25:53 \u001b[42m DEBG \u001b[0m\t\u001b[38;5;1m\u001b[1m[OS]\u001b[0m\topened /storage/qnap/interference_free/cable/0db/npz/SC_QPSK_filtered.npz\n",
      "27.03. 22:26:17 \u001b[42m DEBG \u001b[0m\t\u001b[38;5;1m\u001b[1m[OS]\u001b[0m\tsaved /storage/qnap/interference_free/cable/0db/npz/SC_QPSK_filtered_short.npz\n",
      "27.03. 22:26:33 \u001b[42m DEBG \u001b[0m\t\u001b[38;5;1m\u001b[1m[OS]\u001b[0m\topened /storage/qnap/interference_free/cable/0db/npz/OFDM_BPSK_filtered.npz\n",
      "27.03. 22:26:58 \u001b[42m DEBG \u001b[0m\t\u001b[38;5;1m\u001b[1m[OS]\u001b[0m\tsaved /storage/qnap/interference_free/cable/0db/npz/OFDM_BPSK_filtered_short.npz\n",
      "27.03. 22:27:13 \u001b[42m DEBG \u001b[0m\t\u001b[38;5;1m\u001b[1m[OS]\u001b[0m\topened /storage/qnap/interference_free/cable/0db/npz/OFDM_QPSK_filtered.npz\n",
      "27.03. 22:27:37 \u001b[42m DEBG \u001b[0m\t\u001b[38;5;1m\u001b[1m[OS]\u001b[0m\tsaved /storage/qnap/interference_free/cable/0db/npz/OFDM_QPSK_filtered_short.npz\n",
      "27.03. 22:27:37 \u001b[42m DEBG \u001b[0m\t\u001b[38;5;0m\u001b[1m[sys]\u001b[0m\t\u001b[1mReading error queues...\u001b[0m\n",
      "27.03. 22:27:37 \u001b[44m INFO \u001b[0m\t\u001b[38;5;0m\u001b[1m[sys]\u001b[0m\t\u001b[1mClosed Context Manager (Elapsed time: 00:05:23)\u001b[0m\n"
     ]
    }
   ],
   "source": [
    "npy_dir = \"/storage/qnap/interference_free/cable/0db/npz/\"\n",
    "\n",
    "rows = 1000\n",
    "\n",
    "with ContextManager(streamhandler_level=logging.DEBUG, filehandler_path=npy_dir) as contextmanager:\n",
    "\n",
    "    files = glob.glob(npy_dir+\"*filtered.npz\")\n",
    "    for file in files:\n",
    "        \n",
    "        output_file = file.rstrip(\".npz\")+\"_short.npz\"\n",
    "        data = np.load(file)\n",
    "        \n",
    "        length = data['labels'].size\n",
    "        \n",
    "        randidx = np.random.randint(length, size=rows)\n",
    "        matrix = data['matrix'][randidx, :]\n",
    "        snrs = data['snrs'][randidx]\n",
    "        labels = data['labels'][randidx]\n",
    "        \n",
    "        debug(\"OS\", \"opened %s\" % (file))\n",
    "        np.savez(output_file, matrix=matrix, snrs=snrs, labels=labels)\n",
    "        debug(\"OS\", \"saved %s\" % (output_file))\n",
    "        matrix = []"
   ]
  },
  {
   "cell_type": "code",
   "execution_count": null,
   "metadata": {},
   "outputs": [],
   "source": [
    "a = np.reshape(np.arange(15**2), (15,15))"
   ]
  },
  {
   "cell_type": "code",
   "execution_count": null,
   "metadata": {},
   "outputs": [],
   "source": [
    "a[:,::3]"
   ]
  },
  {
   "cell_type": "code",
   "execution_count": null,
   "metadata": {},
   "outputs": [],
   "source": [
    "np.random.randint(100, size=10)"
   ]
  },
  {
   "cell_type": "code",
   "execution_count": null,
   "metadata": {},
   "outputs": [],
   "source": []
  }
 ],
 "metadata": {
  "celltoolbar": "Initialization Cell",
  "kernelspec": {
   "display_name": "Python 3",
   "language": "python",
   "name": "python3"
  },
  "language_info": {
   "codemirror_mode": {
    "name": "ipython",
    "version": 3
   },
   "file_extension": ".py",
   "mimetype": "text/x-python",
   "name": "python",
   "nbconvert_exporter": "python",
   "pygments_lexer": "ipython3",
   "version": "3.5.2"
  }
 },
 "nbformat": 4,
 "nbformat_minor": 2
}
